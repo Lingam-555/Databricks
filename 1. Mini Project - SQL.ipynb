{
 "cells": [
  {
   "cell_type": "code",
   "execution_count": 0,
   "metadata": {
    "application/vnd.databricks.v1+cell": {
     "cellMetadata": {
      "byteLimit": 2048000,
      "implicitDf": true,
      "rowLimit": 10000
     },
     "inputWidgets": {},
     "nuid": "156e9ed2-3b71-405a-9f84-85d4409003a3",
     "showTitle": false,
     "tableResultSettingsMap": {},
     "title": ""
    }
   },
   "outputs": [],
   "source": [
    "%sql\n",
    "drop table Aug_sales_2025;\n",
    "\n",
    "create table Aug_sales_2025(Date date,\n",
    "Order_ID int primary key,\n",
    "Customer varchar(100),\n",
    "Region varchar(50),\n",
    "Product varchar(100),\n",
    "Category varchar(50),\n",
    "Quantity int,\n",
    "Unit_Price float,\n",
    "Total_Sales float)"
   ]
  },
  {
   "cell_type": "code",
   "execution_count": 0,
   "metadata": {
    "application/vnd.databricks.v1+cell": {
     "cellMetadata": {
      "byteLimit": 2048000,
      "implicitDf": true,
      "rowLimit": 10000
     },
     "inputWidgets": {},
     "nuid": "7a89e328-65dc-4d0c-b957-9b11dbd5d303",
     "showTitle": false,
     "tableResultSettingsMap": {},
     "title": ""
    }
   },
   "outputs": [],
   "source": [
    "%sql\n",
    "insert into Aug_sales_2025 (Date, order_ID, Customer, Region, Product, Category, Quantity, Unit_Price, Total_sales) values\n",
    "('2025-08-01', 1001, 'John Smith', 'North', 'Smartphone', 'Electronics', 2, 699.99, 1399.98),\n",
    "('2025-08-01', 1002, 'Alice Johnson', 'South', 'Laptop', 'Electronics', 1, 1299.99, 1299.99),\n",
    "('2025-08-02', 1003, 'Robert Brown', 'East', 'Office Chair', 'Furniture', 4, 89.99, 359.96),\n",
    "('2025-08-02', 1004, 'Linda Davis', 'West', 'LED Monitor', 'Electronics', 2, 199.99, 399.98),\n",
    "('2025-08-03', 1005, 'James Wilson', 'North', 'Notebook', 'Stationery', 10, 2.99, 29.90),\n",
    "('2025-08-03', 1006, 'Emily Clark', 'South', 'Pen Set', 'Stationery', 5, 4.99, 24.95),\n",
    "('2025-08-04', 1007, 'Daniel Lewis', 'East', 'Tablet', 'Electronics', 3, 299.99, 899.97),\n",
    "('2025-08-04', 1008, 'Nancy Hall', 'West', 'Desk', 'Furniture', 1, 249.99, 249.99),\n",
    "('2025-08-05', 1009, 'Steven Young', 'North', 'Smartwatch', 'Electronics', 2, 199.99, 399.98),\n",
    "('2025-08-05', 1010, 'Jessica King', 'South', 'Printer', 'Electronics', 1, 149.99, 149.99),\n",
    "('2025-08-06', 1011, 'Kevin White', 'East', 'Desk Lamp', 'Furniture', 3, 34.99, 104.97),\n",
    "('2025-08-06', 1012, 'Susan Baker', 'West', 'Notebook', 'Stationery', 20, 2.99, 59.80),\n",
    "('2025-08-07', 1013, 'Paul Green', 'North', 'Keyboard', 'Electronics', 2, 49.99, 99.98),\n",
    "('2025-08-07', 1014, 'Rachel Adams', 'South', 'Mouse', 'Electronics', 4, 29.99, 119.96),\n",
    "('2025-08-08', 1015, 'Laura Wright', 'East', 'Filing Cabinet', 'Furniture', 1, 199.99, 199.99),\n",
    "('2025-08-08', 1016, 'Tom Harris', 'West', 'Whiteboard', 'Furniture', 2, 149.99, 299.98),\n",
    "('2025-08-09', 1017, 'Olivia Scott', 'North', 'Headphones', 'Electronics', 3, 89.99, 269.97),\n",
    "('2025-08-09', 1018, 'Henry Moore', 'South', 'Notebook', 'Stationery', 15, 2.99, 44.85),\n",
    "('2025-08-10', 1019, 'Emma Evans', 'East', 'Pen Set', 'Stationery', 10, 4.99, 49.90),\n",
    "('2025-08-10', 1020, 'George Turner', 'West', 'Tablet', 'Electronics', 1, 299.99, 299.99),\n",
    "('2025-08-11', 1021, 'Victoria Hill', 'North', 'Printer', 'Electronics', 2, 149.99, 299.98),\n",
    "('2025-08-11', 1022, 'Jack Lee', 'South', 'Desk Chair', 'Furniture', 2, 109.99, 219.98),\n",
    "('2025-08-12', 1023, 'Megan Adams', 'East', 'Monitor', 'Electronics', 1, 179.99, 179.99),\n",
    "('2025-08-12', 1024, 'Brian Collins', 'West', 'Smartwatch', 'Electronics', 1, 199.99, 199.99),\n",
    "('2025-08-13', 1025, 'Diana Stewart', 'North', 'Laptop Stand', 'Furniture', 3, 39.99, 119.97);"
   ]
  },
  {
   "cell_type": "code",
   "execution_count": 0,
   "metadata": {
    "application/vnd.databricks.v1+cell": {
     "cellMetadata": {
      "byteLimit": 2048000,
      "implicitDf": true,
      "rowLimit": 10000
     },
     "inputWidgets": {},
     "nuid": "8f40fc8a-f961-4b76-ad31-c87c689e287d",
     "showTitle": false,
     "tableResultSettingsMap": {},
     "title": ""
    }
   },
   "outputs": [],
   "source": [
    "%sql\n",
    "select * from aug_sales_2025"
   ]
  },
  {
   "cell_type": "code",
   "execution_count": 0,
   "metadata": {
    "application/vnd.databricks.v1+cell": {
     "cellMetadata": {
      "byteLimit": 2048000,
      "implicitDf": true,
      "rowLimit": 10000
     },
     "inputWidgets": {},
     "nuid": "f39a41f6-fb7b-467b-bed6-7d17ea89cb75",
     "showTitle": false,
     "tableResultSettingsMap": {},
     "title": ""
    }
   },
   "outputs": [],
   "source": [
    "%sql\n",
    "ALTER TABLE Aug_sales_2025 SET TBLPROPERTIES ('delta.columnMapping.mode' = 'name')"
   ]
  },
  {
   "cell_type": "code",
   "execution_count": 0,
   "metadata": {
    "application/vnd.databricks.v1+cell": {
     "cellMetadata": {
      "byteLimit": 2048000,
      "implicitDf": true,
      "rowLimit": 10000
     },
     "inputWidgets": {},
     "nuid": "c8dd2c02-4ab4-4886-9521-977a35040f9e",
     "showTitle": false,
     "tableResultSettingsMap": {},
     "title": ""
    }
   },
   "outputs": [],
   "source": [
    "%sql\n",
    "ALTER TABLE Aug_sales_2025 DROP COLUMN IF EXISTS Unit_Price;\n",
    "\n",
    "ALTER TABLE Aug_sales_2025 ADD COLUMN Unit_Price DECIMAL(10,2);\n",
    "\n",
    "ALTER TABLE Aug_sales_2025 DROP COLUMN IF EXISTS Total_Sales;\n",
    "\n",
    "ALTER TABLE Aug_sales_2025 ADD COLUMN Total_Sales DECIMAL(10,2);"
   ]
  },
  {
   "cell_type": "code",
   "execution_count": 0,
   "metadata": {
    "application/vnd.databricks.v1+cell": {
     "cellMetadata": {},
     "inputWidgets": {},
     "nuid": "8a931ad5-fa7e-4bac-a1b3-a4af9f5c8632",
     "showTitle": false,
     "tableResultSettingsMap": {},
     "title": ""
    }
   },
   "outputs": [],
   "source": []
  }
 ],
 "metadata": {
  "application/vnd.databricks.v1+notebook": {
   "computePreferences": null,
   "dashboards": [],
   "environmentMetadata": {
    "base_environment": "",
    "environment_version": "2"
   },
   "inputWidgetPreferences": null,
   "language": "python",
   "notebookMetadata": {
    "mostRecentlyExecutedCommandWithImplicitDF": {
     "commandId": 6998046824582974,
     "dataframes": [
      "_sqldf"
     ]
    },
    "pythonIndentUnit": 4
   },
   "notebookName": "1. Mini Project - SQL",
   "widgets": {}
  },
  "language_info": {
   "name": "python"
  }
 },
 "nbformat": 4,
 "nbformat_minor": 0
}
