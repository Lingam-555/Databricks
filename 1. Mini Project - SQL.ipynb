{
 "cells": [
  {
   "cell_type": "code",
   "execution_count": 0,
   "metadata": {
    "application/vnd.databricks.v1+cell": {
     "cellMetadata": {
      "byteLimit": 2048000,
      "implicitDf": true,
      "rowLimit": 10000
     },
     "inputWidgets": {},
     "nuid": "156e9ed2-3b71-405a-9f84-85d4409003a3",
     "showTitle": false,
     "tableResultSettingsMap": {},
     "title": ""
    }
   },
   "outputs": [],
   "source": [
    "%sql\n",
    "drop table Aug_sales_2025;\n",
    "\n",
    "create table Aug_sales_2025(Date date,\n",
    "Order_ID int primary key,\n",
    "Customer varchar(100),\n",
    "Region varchar(50),\n",
    "Product varchar(100),\n",
    "Category varchar(50),\n",
    "Quantity int,\n",
    "Unit_Price Decimal(10,2),\n",
    "Total_Sales Decimal(10,2))"
   ]
  },
  {
   "cell_type": "code",
   "execution_count": 0,
   "metadata": {
    "application/vnd.databricks.v1+cell": {
     "cellMetadata": {
      "byteLimit": 2048000,
      "implicitDf": true,
      "rowLimit": 10000
     },
     "inputWidgets": {},
     "nuid": "7a89e328-65dc-4d0c-b957-9b11dbd5d303",
     "showTitle": false,
     "tableResultSettingsMap": {},
     "title": ""
    }
   },
   "outputs": [],
   "source": [
    "%sql\n",
    "insert into Aug_sales_2025 (Date, order_ID, Customer, Region, Product, Category, Quantity, Unit_Price, Total_sales) values\n",
    "('2025-08-01', 1001, 'John Smith', 'North', 'Smartphone', 'Electronics', 2, 699.99, 1399.98),\n",
    "('2025-08-01', 1002, 'Alice Johnson', 'South', 'Laptop', 'Electronics', 1, 1299.99, 1299.99),\n",
    "('2025-08-02', 1003, 'Robert Brown', 'East', 'Office Chair', 'Furniture', 4, 89.99, 359.96),\n",
    "('2025-08-02', 1004, 'Linda Davis', 'West', 'LED Monitor', 'Electronics', 2, 199.99, 399.98),\n",
    "('2025-08-03', 1005, 'James Wilson', 'North', 'Notebook', 'Stationery', 10, 2.99, 29.90),\n",
    "('2025-08-03', 1006, 'Emily Clark', 'South', 'Pen Set', 'Stationery', 5, 4.99, 24.95),\n",
    "('2025-08-04', 1007, 'Daniel Lewis', 'East', 'Tablet', 'Electronics', 3, 299.99, 899.97),\n",
    "('2025-08-04', 1008, 'Nancy Hall', 'West', 'Desk', 'Furniture', 1, 249.99, 249.99),\n",
    "('2025-08-05', 1009, 'Steven Young', 'North', 'Smartwatch', 'Electronics', 2, 199.99, 399.98),\n",
    "('2025-08-05', 1010, 'Jessica King', 'South', 'Printer', 'Electronics', 1, 149.99, 149.99),\n",
    "('2025-08-06', 1011, 'Kevin White', 'East', 'Desk Lamp', 'Furniture', 3, 34.99, 104.97),\n",
    "('2025-08-06', 1012, 'Susan Baker', 'West', 'Notebook', 'Stationery', 20, 2.99, 59.80),\n",
    "('2025-08-07', 1013, 'Paul Green', 'North', 'Keyboard', 'Electronics', 2, 49.99, 99.98),\n",
    "('2025-08-07', 1014, 'Rachel Adams', 'South', 'Mouse', 'Electronics', 4, 29.99, 119.96),\n",
    "('2025-08-08', 1015, 'Laura Wright', 'East', 'Filing Cabinet', 'Furniture', 1, 199.99, 199.99),\n",
    "('2025-08-08', 1016, 'Tom Harris', 'West', 'Whiteboard', 'Furniture', 2, 149.99, 299.98),\n",
    "('2025-08-09', 1017, 'Olivia Scott', 'North', 'Headphones', 'Electronics', 3, 89.99, 269.97),\n",
    "('2025-08-09', 1018, 'Henry Moore', 'South', 'Notebook', 'Stationery', 15, 2.99, 44.85),\n",
    "('2025-08-10', 1019, 'Emma Evans', 'East', 'Pen Set', 'Stationery', 10, 4.99, 49.90),\n",
    "('2025-08-10', 1020, 'George Turner', 'West', 'Tablet', 'Electronics', 1, 299.99, 299.99),\n",
    "('2025-08-11', 1021, 'Victoria Hill', 'North', 'Printer', 'Electronics', 2, 149.99, 299.98),\n",
    "('2025-08-11', 1022, 'Jack Lee', 'South', 'Desk Chair', 'Furniture', 2, 109.99, 219.98),\n",
    "('2025-08-12', 1023, 'Megan Adams', 'East', 'Monitor', 'Electronics', 1, 179.99, 179.99),\n",
    "('2025-08-12', 1024, 'Brian Collins', 'West', 'Smartwatch', 'Electronics', 1, 199.99, 199.99),\n",
    "('2025-08-13', 1025, 'Diana Stewart', 'North', 'Laptop Stand', 'Furniture', 3, 39.99, 119.97);"
   ]
  },
  {
   "cell_type": "code",
   "execution_count": 0,
   "metadata": {
    "application/vnd.databricks.v1+cell": {
     "cellMetadata": {
      "byteLimit": 2048000,
      "implicitDf": true,
      "rowLimit": 10000
     },
     "inputWidgets": {},
     "nuid": "8f40fc8a-f961-4b76-ad31-c87c689e287d",
     "showTitle": false,
     "tableResultSettingsMap": {},
     "title": ""
    }
   },
   "outputs": [],
   "source": [
    "%sql\n",
    "select * from aug_sales_2025"
   ]
  },
  {
   "cell_type": "markdown",
   "metadata": {
    "application/vnd.databricks.v1+cell": {
     "cellMetadata": {},
     "inputWidgets": {},
     "nuid": "b52f1278-aa8f-4aac-9c01-7b827cee62b0",
     "showTitle": false,
     "tableResultSettingsMap": {},
     "title": ""
    }
   },
   "source": [
    "## **Sales Analysis**"
   ]
  },
  {
   "cell_type": "code",
   "execution_count": 0,
   "metadata": {
    "application/vnd.databricks.v1+cell": {
     "cellMetadata": {
      "byteLimit": 2048000,
      "rowLimit": 10000
     },
     "inputWidgets": {},
     "nuid": "b23b5416-d22e-478c-9a0a-1b711d934f46",
     "showTitle": false,
     "tableResultSettingsMap": {},
     "title": ""
    }
   },
   "outputs": [],
   "source": [
    "-- Total revenue\n",
    "\n",
    "select sum(total_sales) AS Total_revenue from aug_sales_2025;"
   ]
  },
  {
   "cell_type": "code",
   "execution_count": 0,
   "metadata": {
    "application/vnd.databricks.v1+cell": {
     "cellMetadata": {
      "byteLimit": 2048000,
      "rowLimit": 10000
     },
     "inputWidgets": {},
     "nuid": "13174dc7-65b5-47f4-b7ad-ac2cf906e35c",
     "showTitle": false,
     "tableResultSettingsMap": {},
     "title": ""
    }
   },
   "outputs": [],
   "source": [
    "-- Which region generated the highest total sales\n",
    "\n",
    "select Region, sum(total_sales) as region_sales from aug_sales_2025 GROUP BY Region ORDER BY region_sales DESC; "
   ]
  },
  {
   "cell_type": "code",
   "execution_count": 0,
   "metadata": {
    "application/vnd.databricks.v1+cell": {
     "cellMetadata": {
      "byteLimit": 2048000,
      "rowLimit": 10000
     },
     "inputWidgets": {},
     "nuid": "2e3b0a3b-901e-4628-a48a-0f557b734941",
     "showTitle": false,
     "tableResultSettingsMap": {},
     "title": ""
    }
   },
   "outputs": [],
   "source": [
    "-- What are the total sales per product category\n",
    "\n",
    "select category, sum(total_sales) AS Categorical_sales FROM aug_sales_2025 GROUP BY Category ORDER BY categorical_sales DESC;"
   ]
  },
  {
   "cell_type": "code",
   "execution_count": 0,
   "metadata": {
    "application/vnd.databricks.v1+cell": {
     "cellMetadata": {
      "byteLimit": 2048000,
      "rowLimit": 10000
     },
     "inputWidgets": {},
     "nuid": "8ebc5fcd-2976-4ef3-820b-088b620a4db0",
     "showTitle": false,
     "tableResultSettingsMap": {},
     "title": ""
    }
   },
   "outputs": [],
   "source": [
    "-- Which product had the highest unit price\n",
    "\n",
    "select product, unit_price from aug_sales_2025 ORDER BY unit_price DESC LIMIT 1;"
   ]
  },
  {
   "cell_type": "code",
   "execution_count": 0,
   "metadata": {
    "application/vnd.databricks.v1+cell": {
     "cellMetadata": {
      "byteLimit": 2048000,
      "rowLimit": 10000
     },
     "inputWidgets": {},
     "nuid": "7b1f8f88-aacc-4d95-9aa6-5e7e7298e21f",
     "showTitle": false,
     "tableResultSettingsMap": {},
     "title": ""
    }
   },
   "outputs": [],
   "source": [
    "-- What is the average order value\n",
    "\n",
    "select round(avg(total_sales)) as Avg_total_sales from aug_sales_2025;"
   ]
  },
  {
   "cell_type": "code",
   "execution_count": 0,
   "metadata": {
    "application/vnd.databricks.v1+cell": {
     "cellMetadata": {
      "byteLimit": 2048000,
      "rowLimit": 10000
     },
     "inputWidgets": {},
     "nuid": "b19a9db4-d05a-4871-a61d-7408ac45c73e",
     "showTitle": false,
     "tableResultSettingsMap": {},
     "title": ""
    }
   },
   "outputs": [],
   "source": [
    "-- Which customer made the highest total purchases\n",
    "\n",
    "select customer, sum(total_sales) AS Total_purchases from aug_sales_2025 GROUP BY customer ORDER BY total_purchases DESC Limit 5;"
   ]
  },
  {
   "cell_type": "code",
   "execution_count": 0,
   "metadata": {
    "application/vnd.databricks.v1+cell": {
     "cellMetadata": {
      "byteLimit": 2048000,
      "rowLimit": 10000
     },
     "inputWidgets": {},
     "nuid": "c4d37e54-8c2d-427a-b905-1acb4e1fccfb",
     "showTitle": false,
     "tableResultSettingsMap": {},
     "title": ""
    }
   },
   "outputs": [],
   "source": [
    "--How many unique customers are in the dataset\n",
    "\n",
    "Select count(distinct(customer)) AS Total_unique_cust from aug_sales_2025;"
   ]
  },
  {
   "cell_type": "markdown",
   "metadata": {
    "application/vnd.databricks.v1+cell": {
     "cellMetadata": {},
     "inputWidgets": {},
     "nuid": "c290772a-a460-4a3f-b23e-857164d1ff94",
     "showTitle": false,
     "tableResultSettingsMap": {},
     "title": ""
    }
   },
   "source": [
    "# **Time-Based Analysis**"
   ]
  },
  {
   "cell_type": "code",
   "execution_count": 0,
   "metadata": {
    "application/vnd.databricks.v1+cell": {
     "cellMetadata": {
      "byteLimit": 2048000,
      "rowLimit": 10000
     },
     "inputWidgets": {},
     "nuid": "586071f5-c48e-4b06-a88e-bceb9cb2f2d1",
     "showTitle": false,
     "tableResultSettingsMap": {},
     "title": ""
    }
   },
   "outputs": [],
   "source": [
    "-- What is the daily sales trend\n",
    "\n",
    "Select date, sum(total_sales) AS Daily_sales from aug_sales_2025 GROUP BY date ORDER BY Daily_sales DESC;"
   ]
  },
  {
   "cell_type": "code",
   "execution_count": 0,
   "metadata": {
    "application/vnd.databricks.v1+cell": {
     "cellMetadata": {
      "byteLimit": 2048000,
      "rowLimit": 10000
     },
     "inputWidgets": {},
     "nuid": "41c8b39f-7c45-49ce-8bd2-7bb4764bea1d",
     "showTitle": false,
     "tableResultSettingsMap": {},
     "title": ""
    }
   },
   "outputs": [],
   "source": [
    "-- Which day had the highest sales\n",
    "\n",
    "Select date, sum(total_sales) AS Daily_sales from aug_sales_2025 GROUP BY date ORDER BY Daily_sales DESC Limit 1;"
   ]
  },
  {
   "cell_type": "markdown",
   "metadata": {
    "application/vnd.databricks.v1+cell": {
     "cellMetadata": {},
     "inputWidgets": {},
     "nuid": "4a4afd05-f38d-4d24-b366-b579ada0d438",
     "showTitle": false,
     "tableResultSettingsMap": {},
     "title": ""
    }
   },
   "source": [
    "## **Product-Level Insights**"
   ]
  },
  {
   "cell_type": "code",
   "execution_count": 0,
   "metadata": {
    "application/vnd.databricks.v1+cell": {
     "cellMetadata": {
      "byteLimit": 2048000,
      "rowLimit": 10000
     },
     "inputWidgets": {},
     "nuid": "050329e3-7f30-47b1-9d0b-46a7e4d864d2",
     "showTitle": false,
     "tableResultSettingsMap": {},
     "title": ""
    }
   },
   "outputs": [],
   "source": [
    "-- What are the top 5 best-selling products?\n",
    "\n",
    "select product, sum(total_sales) AS product_sales from aug_sales_2025 GROUP BY Product ORDER by Product_sales desc limit 5;\n"
   ]
  },
  {
   "cell_type": "code",
   "execution_count": 0,
   "metadata": {
    "application/vnd.databricks.v1+cell": {
     "cellMetadata": {
      "byteLimit": 2048000,
      "rowLimit": 10000
     },
     "inputWidgets": {},
     "nuid": "82407292-c8a1-4277-b937-46781dfd904b",
     "showTitle": false,
     "tableResultSettingsMap": {},
     "title": ""
    }
   },
   "outputs": [],
   "source": [
    "-- Which product had the highest quantity sold\n",
    "\n",
    "select product, SUM(quantity) AS Total_quantity from aug_sales_2025 GROUP BY product ORDER BY total_quantity DESC LIMIT 1;"
   ]
  },
  {
   "cell_type": "code",
   "execution_count": 0,
   "metadata": {
    "application/vnd.databricks.v1+cell": {
     "cellMetadata": {
      "byteLimit": 2048000,
      "rowLimit": 10000
     },
     "inputWidgets": {},
     "nuid": "93f261a7-647e-493a-a692-6f695a9501ce",
     "showTitle": false,
     "tableResultSettingsMap": {},
     "title": ""
    }
   },
   "outputs": [],
   "source": [
    "-- Which product category has the highest average order value\n",
    "\n",
    "SELECT category, round(avg(total_sales)) AS Avg_total_sales FROM aug_sales_2025 GROUP BY category ORDER BY avg_total_sales DESC;"
   ]
  },
  {
   "cell_type": "code",
   "execution_count": 0,
   "metadata": {
    "application/vnd.databricks.v1+cell": {
     "cellMetadata": {
      "byteLimit": 2048000,
      "rowLimit": 10000
     },
     "inputWidgets": {},
     "nuid": "1f99e90d-7f5a-42b0-8417-e29599b37380",
     "showTitle": false,
     "tableResultSettingsMap": {},
     "title": ""
    }
   },
   "outputs": [],
   "source": [
    "-- Calculate the contribution (%) of each region to total sales\n",
    "\n",
    "SELECT region, SUM(total_sales) AS regional_sales, ROUND(SUM(total_sales) * 100.0/(select SUM(total_sales) from aug_sales_2025),2) AS Percentage_of_total from aug_sales_2025 GROUP BY Region;"
   ]
  },
  {
   "cell_type": "code",
   "execution_count": 0,
   "metadata": {
    "application/vnd.databricks.v1+cell": {
     "cellMetadata": {},
     "inputWidgets": {},
     "nuid": "0d8e510c-44b2-499b-93c3-facbe8491725",
     "showTitle": false,
     "tableResultSettingsMap": {},
     "title": ""
    }
   },
   "outputs": [],
   "source": []
  }
 ],
 "metadata": {
  "application/vnd.databricks.v1+notebook": {
   "computePreferences": null,
   "dashboards": [],
   "environmentMetadata": {
    "base_environment": "",
    "environment_version": "2"
   },
   "inputWidgetPreferences": null,
   "language": "sql",
   "notebookMetadata": {
    "mostRecentlyExecutedCommandWithImplicitDF": {
     "commandId": 6998046824582973,
     "dataframes": [
      "_sqldf"
     ]
    },
    "pythonIndentUnit": 4
   },
   "notebookName": "1. Mini Project - SQL",
   "widgets": {}
  },
  "language_info": {
   "name": "sql"
  }
 },
 "nbformat": 4,
 "nbformat_minor": 0
}
